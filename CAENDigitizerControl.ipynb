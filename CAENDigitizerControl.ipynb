{
 "cells": [
  {
   "cell_type": "code",
   "execution_count": 8,
   "id": "c1c724a9-4db8-4a16-87ae-8e9236556f5a",
   "metadata": {
    "tags": []
   },
   "outputs": [],
   "source": [
    "# CAENDigitizerControl - Written by Edgar Mao\n",
    "#\n",
    "# Adapted from demo_scope.py by Giovanni Cerretani"
   ]
  },
  {
   "cell_type": "code",
   "execution_count": 9,
   "id": "1c1f153c-9bb3-447e-a67e-86855e34eefc",
   "metadata": {
    "tags": []
   },
   "outputs": [],
   "source": [
    "import numpy as np\n",
    "\n",
    "from caen_felib import device, error\n",
    "import matplotlib.pyplot as plt\n"
   ]
  },
  {
   "cell_type": "code",
   "execution_count": 10,
   "id": "31ec2e8f-ddac-4d81-aae9-0acf8927f3ec",
   "metadata": {
    "tags": []
   },
   "outputs": [],
   "source": [
    "# Digitizer settings\n",
    "# TODO: Figure out if reclen, pre/post-trig are in units of samples or ns\n",
    "\n",
    "\n",
    "# Configuration parameters\n",
    "reclen = 2048             # record length, in units of ns\n",
    "post_trigger = 1024       # ns\n",
    "trig_edge = f\"RISE\"       # trigger edge, \"RISE\" or \"FALL\"\n",
    "stmode = f\"START_MODE_SW\" # Startmodes: \"START_MODE_SW\", \"START_MODE_S_IN\", or \"START_MODE_FIRST_TRG\"\n",
    "\n",
    "\n",
    "# group-specific settings\n",
    "gr_on = [0,1,2,3]               # Group numbers to turn on\n",
    "gr_off = []                     # Group numbers to turn off\n",
    "gr_trig_lvl = [1100,900,900,900] # in units of LSB (0-4095)\n",
    "gr_dc = [i/40.96 for i in [840,840,840,840]] # in units of LSB (0-4095)\n",
    "\n"
   ]
  },
  {
   "cell_type": "code",
   "execution_count": 11,
   "id": "8caef752-74a0-47e7-a942-fed4f71f5599",
   "metadata": {
    "tags": []
   },
   "outputs": [],
   "source": [
    "# Variable for storing all acquired waveforms\n",
    "allwf = []\n",
    "\n",
    "# Save the data?\n",
    "save = True\n",
    "spath = f\"\\.\""
   ]
  },
  {
   "cell_type": "code",
   "execution_count": 12,
   "id": "ae31d3dc-3c53-40cd-9726-d0c8f1a301cb",
   "metadata": {
    "tags": []
   },
   "outputs": [],
   "source": [
    "# TODO [Features]:\n",
    "    # Connectivity and live display [done]\n",
    "    # Set trigger level [by group], bsline [by group], reclen [done], \n",
    "    # Save data [need revising]\n",
    "    # Basic logic?\n",
    "    # GUI? or some kind of UI\n",
    "    # Runtime control\n",
    "# TODO: clarify settings and delete redudancy (ex. reclen)"
   ]
  },
  {
   "cell_type": "code",
   "execution_count": 13,
   "id": "2451b822-31df-40ad-a6ba-a779b6ea5d89",
   "metadata": {
    "tags": []
   },
   "outputs": [
    {
     "data": {
      "image/png": "[encoded data removed]",
      "text/plain": [
       "<Figure size 640x480 with 1 Axes>"
      ]
     },
     "metadata": {},
     "output_type": "display_data"
    },
    {
     "data": {
      "text/plain": [
       "<Figure size 640x480 with 0 Axes>"
      ]
     },
     "metadata": {},
     "output_type": "display_data"
    }
   ],
   "source": [
    "with device.connect('dig1://caen.internal/usb') as dig:\n",
    "    # Reset\n",
    "    dig.cmd.Reset()\n",
    "    dig.cmd.ClearData()\n",
    "\n",
    "    \n",
    "    # Get board info\n",
    "    nch = int(dig.par.NUMCH.value)\n",
    "    n_analog_traces = int(dig.par.NUMANALOGTRACES.value)\n",
    "    n_digital_traces = int(dig.par.NUMDIGITALTRACES.value)\n",
    "    adc_samplrate_msps = float(dig.par.ADC_SAMPLRATE.value)  # in Msps\n",
    "    adc_nbit = int(dig.par.ADC_NBIT.value)\n",
    "    sampling_period_ns = int(1e3 / adc_samplrate_msps)\n",
    "    fw_type = dig.par.FWTYPE.value\n",
    "\n",
    "\n",
    "    # Configure digitizer\n",
    "    dig.par.STARTMODE.value = stmode\n",
    "    dig.par.RECLEN.value = f'{reclen}'\n",
    "    dig.par.self_trigger_edge.value = trig_edge\n",
    "    dig.par.posttrg.value = f'{post_trigger}'\n",
    "\n",
    "    # Set group parameters\n",
    "    for i in gr_on:\n",
    "        dig.group[i].par.gr_enabled.value = f'TRUE'\n",
    "        dig.group[i].par.gr_threshold.value = f'{gr_trig_lvl[i]}'\n",
    "        dig.group[i].par.gr_dcoffset.value = f'{gr_dc[i]}'\n",
    "\n",
    "    \n",
    "    # Compute record length in samples\n",
    "    reclen_ns = int(dig.par.RECLEN.value)  # Read back RECLEN to check if there have been rounding\n",
    "    reclen = int(reclen_ns / sampling_period_ns)\n",
    "\n",
    "\n",
    "    # Set enabled endpoint to activate decode\n",
    "    dig.endpoint.par.ActiveEndpoint.value = 'scope'\n",
    "\n",
    "    # Configure endpoint\n",
    "    data_format = [\n",
    "        {\n",
    "            'name': 'TIMESTAMP',\n",
    "            'type': 'U64',\n",
    "        },\n",
    "        {\n",
    "            'name': 'WAVEFORM',\n",
    "            'type': 'U16',\n",
    "            'dim': 2,\n",
    "            'shape': [nch, reclen],\n",
    "        },\n",
    "        {\n",
    "            'name': 'WAVEFORM_SIZE',\n",
    "            'type': 'U64',\n",
    "            'dim': 1,\n",
    "            'shape': [nch],\n",
    "        },\n",
    "    ]\n",
    "\n",
    "\n",
    "    # Store endpoint node\n",
    "    decoded_endpoint_path = fw_type.strip('-')  # decoded endpoint path is just firmware type without -\n",
    "    endpoint = dig.endpoint[decoded_endpoint_path]\n",
    "    # set_read_data_format returns allocated buffers\n",
    "    data = endpoint.set_read_data_format(data_format)\n",
    "\n",
    "    timestamp = data[0].value\n",
    "    waveform = data[1].value\n",
    "    waveform_size = data[2].value\n",
    "    \n",
    "    # setup live plot\n",
    "    fig = plt.figure()\n",
    "    hfig = display(fig, display_id=True)\n",
    "    \n",
    "    # Start acquisition\n",
    "    dig.cmd.ArmAcquisition()\n",
    "\n",
    "    # Acquisition loop\n",
    "    def update():\n",
    "        # TODO: Add a feature that controls the run time rather than just this for loop\n",
    "        for _ in range(100):\n",
    "\n",
    "            # Send trigger\n",
    "            #dig.cmd.SendSwTrigger()\n",
    "\n",
    "            # Wait for event\n",
    "            try:\n",
    "                dig.endpoint.scope.read_data(0, data)\n",
    "                allwf.append(waveform)\n",
    "            except error.Error as ex:\n",
    "                if ex.code == error.ErrorCode.TIMEOUT:\n",
    "                    # Timeout expired, waiting again\n",
    "                    continue\n",
    "                elif ex.code == error.ErrorCode.STOP:\n",
    "                    # End of run, exit the loop\n",
    "                    print('End of run.')\n",
    "                    break\n",
    "                else:\n",
    "                    # Other critical error, propagate it\n",
    "                    raise ex\n",
    "\n",
    "            for i in range(nch):\n",
    "                plt.plot(np.arange(0, waveform_size[i]), waveform[i])\n",
    "\n",
    "            # Change sampling rate of live plots\n",
    "            '''\n",
    "            if _%10:\n",
    "                for i in range(nch):\n",
    "                    plt.plot(np.arange(0, waveform_size[i]), waveform[i])\n",
    "            '''\n",
    "\n",
    "            fig.canvas.draw()\n",
    "            hfig.update(fig)\n",
    "            fig.canvas.flush_events()\n",
    "            plt.clf()\n",
    "            \n",
    "        \n",
    "    update()\n",
    "\n",
    "    # Stop acquisition\n",
    "    dig.cmd.DisarmAcquisition()"
   ]
  },
  {
   "cell_type": "code",
   "execution_count": 14,
   "id": "5ce9aeee-639c-42fe-a70a-631fcf633793",
   "metadata": {},
   "outputs": [],
   "source": [
    "# Save data\n",
    "# Each triggered event is saved as a separate file\n",
    "\n",
    "for i in range(len(allwf)):\n",
    "    np.savetxt(f\"wf{i}.csv\",\n",
    "            allwf[i],\n",
    "            delimiter =\", \",\n",
    "            fmt ='% s')"
   ]
  },
  {
   "cell_type": "code",
   "execution_count": 34,
   "id": "b64b233a-d137-448b-a013-42a6c954ddc8",
   "metadata": {},
   "outputs": [],
   "source": [
    "# Note: right now the channels are triggering normally but the buffer is being filled up, for low rate studies (<10Hz) the current live plot feature is fine\n",
    "# for high rate use cases need to lower the sampling rate of the live plot feature\n",
    "# TODO: high rate feature, complete setting file, releasable version, trig in"
   ]
  },
  {
   "cell_type": "code",
   "execution_count": null,
   "id": "592b922b-f626-455d-bc6d-7fb74b796c45",
   "metadata": {},
   "outputs": [],
   "source": []
  }
 ],
 "metadata": {
  "kernelspec": {
   "display_name": "Python 3 (ipykernel)",
   "language": "python",
   "name": "python3"
  },
  "language_info": {
   "codemirror_mode": {
    "name": "ipython",
    "version": 3
   },
   "file_extension": ".py",
   "mimetype": "text/x-python",
   "name": "python",
   "nbconvert_exporter": "python",
   "pygments_lexer": "ipython3",
   "version": "3.11.3"
  }
 },
 "nbformat": 4,
 "nbformat_minor": 5
}
